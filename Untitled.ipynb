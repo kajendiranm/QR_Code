{
 "cells": [
  {
   "cell_type": "code",
   "execution_count": 9,
   "id": "e8f3a4fa-84f7-40f9-9c2e-a888f88e73e0",
   "metadata": {},
   "outputs": [
    {
     "name": "stdout",
     "output_type": "stream",
     "text": [
      "782/782 [==============================] - 35s 43ms/step - loss: 0.2219 - accuracy: 0.6427 - val_loss: 0.1823 - val_accuracy: 0.7405\n",
      "782/782 [==============================] - 7s 10ms/step - loss: 0.1823 - accuracy: 0.7405\n",
      "Test loss: 0.1823328733444214, Test accuracy: 0.7404800057411194\n"
     ]
    }
   ],
   "source": [
    "import keras\n",
    "from keras.datasets import imdb\n",
    "from keras.layers import Dense, Embedding, SimpleRNN\n",
    "from keras.models import Sequential\n",
    "from keras.preprocessing import sequence\n",
    "\n",
    "# Set hyperparameters\n",
    "max_features = 20000  # Number of words to consider as features\n",
    "maxlen = 100          # Maximum length of each sequence\n",
    "batch_size = 32       # Number of samples per gradient update\n",
    "epochs = 1            # Number of epochs to train the model\n",
    "\n",
    "# Load the dataset\n",
    "(x_train, y_train), (x_test, y_test) = imdb.load_data(num_words=max_features)\n",
    "\n",
    "# Pad sequences to make them same length\n",
    "x_train = sequence.pad_sequences(x_train, maxlen=maxlen)\n",
    "x_test = sequence.pad_sequences(x_test, maxlen=maxlen)\n",
    "\n",
    "# Define the model\n",
    "model = Sequential()\n",
    "model.add(Embedding(max_features, 32))\n",
    "model.add(SimpleRNN(32))\n",
    "model.add(Dense(2, activation='relu'))\n",
    "model.add(Dense(1, activation='relu'))\n",
    "\n",
    "# Compile the model\n",
    "model.compile(optimizer='adam', loss='mse', metrics=['accuracy'])\n",
    "\n",
    "# Train the model\n",
    "hist = model.fit(x_train, y_train,\n",
    "                 batch_size=batch_size,\n",
    "                 epochs=epochs,\n",
    "                 validation_data=(x_test, y_test))\n",
    "\n",
    "# Evaluate the model\n",
    "loss, acc = model.evaluate(x_test, y_test, batch_size=batch_size)\n",
    "print(f'Test loss: {loss}, Test accuracy: {acc}')"
   ]
  },
  {
   "cell_type": "code",
   "execution_count": 18,
   "id": "922e271d-3018-484f-a5b4-41cbdf6d74d0",
   "metadata": {},
   "outputs": [
    {
     "name": "stdout",
     "output_type": "stream",
     "text": [
      "Epoch 1/10\n",
      "32/32 [==============================] - 4s 18ms/step - loss: 0.1821\n",
      "Epoch 2/10\n",
      "32/32 [==============================] - 1s 21ms/step - loss: 0.0875\n",
      "Epoch 3/10\n",
      "32/32 [==============================] - 1s 16ms/step - loss: 0.0843\n",
      "Epoch 4/10\n",
      "32/32 [==============================] - 1s 17ms/step - loss: 0.0821\n",
      "Epoch 5/10\n",
      "32/32 [==============================] - 1s 18ms/step - loss: 0.0801\n",
      "Epoch 6/10\n",
      "32/32 [==============================] - 1s 22ms/step - loss: 0.0789\n",
      "Epoch 7/10\n",
      "32/32 [==============================] - 1s 20ms/step - loss: 0.0784\n",
      "Epoch 8/10\n",
      "32/32 [==============================] - 1s 23ms/step - loss: 0.0781\n",
      "Epoch 9/10\n",
      "32/32 [==============================] - 1s 19ms/step - loss: 0.0779\n",
      "Epoch 10/10\n",
      "32/32 [==============================] - 0s 15ms/step - loss: 0.0778\n",
      "1/1 [==============================] - 1s 887ms/step\n",
      "prediction:  [[0.30315256]\n",
      " [0.36253083]\n",
      " [0.37433672]\n",
      " [0.3773941 ]\n",
      " [0.37834364]\n",
      " [0.3786929 ]\n",
      " [0.37884042]\n",
      " [0.3789104 ]\n",
      " [0.37894684]\n",
      " [0.37896752]]\n"
     ]
    }
   ],
   "source": [
    "import tensorflow as tf\n",
    "from tensorflow.keras.layers import Input, LSTM, RepeatVector\n",
    "from tensorflow.keras.models import Model\n",
    "\n",
    "# Set hyperparameters\n",
    "timesteps = 10     # Number of timesteps in each sequence\n",
    "input_dim = 1      # Dimensionality of each input element\n",
    "latent_dim = 64    # Dimensionality of the latent space representation\n",
    "batch_size = 32    \n",
    "epochs = 10       \n",
    "\n",
    "# Define the autoencoder model\n",
    "inputs = Input(shape=(timesteps, input_dim))\n",
    "encoded = LSTM(latent_dim)(inputs)\n",
    "decoded = RepeatVector(timesteps)(encoded)\n",
    "decoded = LSTM(input_dim, return_sequences=True)(decoded)\n",
    "\n",
    "autoencoder = Model(inputs, decoded)\n",
    "\n",
    "# Compile the autoencoder\n",
    "autoencoder.compile(optimizer='adam', loss='mse')\n",
    "\n",
    "# Train the autoencoder using random data\n",
    "import numpy as np\n",
    "\n",
    "X_train = np.random.random((1000, timesteps, input_dim))\n",
    "autoencoder.fit(X_train, X_train, batch_size=batch_size, epochs=epochs)\n",
    "\n",
    "# Test the autoencoder on new data\n",
    "X_test = np.random.random((10, timesteps, input_dim))\n",
    "decoded_output = autoencoder.predict(X_test)\n",
    "print(\"prediction: \",decoded_output[0])"
   ]
  },
  {
   "cell_type": "code",
   "execution_count": null,
   "id": "3ef6e24c-701f-408a-9b1c-1a2fe22c329f",
   "metadata": {},
   "outputs": [],
   "source": []
  }
 ],
 "metadata": {
  "kernelspec": {
   "display_name": "Python 3 (ipykernel)",
   "language": "python",
   "name": "python3"
  },
  "language_info": {
   "codemirror_mode": {
    "name": "ipython",
    "version": 3
   },
   "file_extension": ".py",
   "mimetype": "text/x-python",
   "name": "python",
   "nbconvert_exporter": "python",
   "pygments_lexer": "ipython3",
   "version": "3.11.5"
  }
 },
 "nbformat": 4,
 "nbformat_minor": 5
}
