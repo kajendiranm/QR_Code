{
 "cells": [
  {
   "cell_type": "code",
   "execution_count": null,
   "id": "42d7b1ec-784e-4e0e-b33d-dfb1dadbf9f4",
   "metadata": {},
   "outputs": [],
   "source": [
    "import tensorflow as tf\n",
    "# Load dataset\n",
    "mnist = tf.keras.datasets.mnist\n",
    "(x_train, y_train), (x_test, y_test) = mnist.load_data()\n",
    "# Normalize data\n",
    "x_train, x_test = x_train / 255.0, x_test / 255.0\n",
    "# Define model\n",
    "model = tf.keras.models.Sequential([\n",
    " tf.keras.layers.Flatten(),\n",
    " tf.keras.layers.Dense(128, activation='relu'),\n",
    " #tf.keras.layers.Dropout(0.2),\n",
    " tf.keras.layers.Dense(10)])\n",
    "# Define loss function and optimizer\n",
    "loss_fn=tf.keras.losses.SparseCategoricalCrossentropy(from_logits=True)\n",
    "optimizer = tf.keras.optimizers.Adam()\n",
    "# Compile the model\n",
    "model.compile(optimizer=optimizer,loss=\"mse\",metrics=['accuracy']\n",
    ")\n",
    "# Train the model\n",
    "model.fit(x_train, y_train, epochs=1)\n",
    "# Evaluate the model\n",
    "model.evaluate(x_test, y_test, verbose=2)"
   ]
  },
  {
   "cell_type": "code",
   "execution_count": null,
   "id": "cae9d4c2-2170-4608-990e-855e02ef00e3",
   "metadata": {},
   "outputs": [],
   "source": [
    "import numpy as np\n",
    "from keras.models import Sequential\n",
    "from keras.layers import Dense\n",
    "# Generate some dummy data\n",
    "X = np.random.rand(100, 10) # 100 samples with 10 features each\n",
    "y = np.random.randint(2, size=100) # Binary labels (0 or 1)\n",
    "# Create a sequential model\n",
    "model = Sequential(\n",
    "# Add layers to the model\n",
    "Dense(64, activation='relu', input_dim=10)), # Input\n",
    "Dense(32, activation='relu')), # Hidden layer with 32\n",
    "Dense(units=1, activation='sigmoid'))) # Output layer with\n",
    "# Compile the model\n",
    "model.compile(optimizer='adam', loss='binary_crossentropy',\n",
    "metrics=['accuracy'])\n",
    "# Train the model\n",
    "model.fit(X, y, epochs=10, batch_size=32)\n",
    "# Make predictions\n",
    "sample_input = np.random.rand(1, 10) # Input for a single sample\n",
    "prediction = model.predict(sample_input)\n",
    "print(\"Prediction:\", prediction)"
   ]
  },
  {
   "cell_type": "code",
   "execution_count": 43,
   "id": "b272a545-815a-42fc-ac61-43bb21995ad5",
   "metadata": {},
   "outputs": [
    {
     "name": "stdout",
     "output_type": "stream",
     "text": [
      "[[0.20451916 0.42772937 0.06985079 0.97462312 0.45934535 0.36087547\n",
      "  0.60675792 0.80091427 0.00498505 0.58249784]]\n"
     ]
    }
   ],
   "source": [
    "print(np.random.rand(1,10))"
   ]
  },
  {
   "cell_type": "code",
   "execution_count": 26,
   "id": "c371198f-0fa2-4f86-9307-a9703157be50",
   "metadata": {},
   "outputs": [],
   "source": [
    "import matplotlib.pyplot as plt"
   ]
  },
  {
   "cell_type": "code",
   "execution_count": 41,
   "id": "022269b1-29e2-49e7-8660-66e82af294ae",
   "metadata": {},
   "outputs": [
    {
     "name": "stdout",
     "output_type": "stream",
     "text": [
      "1563/1563 [==============================] - 24s 14ms/step - loss: 1.5078 - accuracy: 0.4479 - val_loss: 1.2436 - val_accuracy: 0.5596\n",
      "313/313 - 2s - loss: 1.2436 - accuracy: 0.5596 - 2s/epoch - 6ms/step\n",
      "0.5595999956130981\n"
     ]
    },
    {
     "data": {
      "image/png": "[encoded data removed]",
      "text/plain": [
       "<Figure size 640x480 with 1 Axes>"
      ]
     },
     "metadata": {},
     "output_type": "display_data"
    }
   ],
   "source": [
    "import tensorflow as tf\n",
    "from tensorflow.keras import datasets, layers, models\n",
    "import matplotlib.pyplot as plt\n",
    "\n",
    "# Load the dataset\n",
    "(train_images, train_labels), (test_images, test_labels) = datasets.cifar10.load_data()\n",
    "\n",
    "# Normalize pixel values between 0 and 1\n",
    "train_images, test_images = train_images / 255.0, test_images / 255.0\n",
    "\n",
    "# Define the model using CNN\n",
    "model = models.Sequential()\n",
    "model.add(layers.Conv2D(32, (3, 3), activation='relu', input_shape=(32, 32, 3)))\n",
    "model.add(layers.MaxPooling2D((2, 2)))\n",
    "model.add(layers.Conv2D(64, (3, 3), activation='relu'))\n",
    "model.add(layers.MaxPooling2D((2, 2)))\n",
    "model.add(layers.Conv2D(64, (3, 3), activation='relu'))\n",
    "model.add(layers.Flatten())\n",
    "model.add(layers.Dense(64, activation='relu'))\n",
    "model.add(layers.Dense(10))\n",
    "\n",
    "# Compile the model with appropriate loss function, optimizer and metrics\n",
    "model.compile(optimizer='adam',\n",
    "              loss=tf.keras.losses.SparseCategoricalCrossentropy(from_logits=True),\n",
    "              metrics=['accuracy'])\n",
    "\n",
    "# Train the model on the training set\n",
    "history = model.fit(train_images, train_labels, epochs=1,\n",
    "                    validation_data=(test_images, test_labels))\n",
    "\n",
    "# Evaluate the model on the test set\n",
    "test_loss, test_acc = model.evaluate(test_images, test_labels, verbose=2)\n",
    "print(test_acc)\n",
    "\n",
    "# Plot the training and validation accuracy\n",
    "plt.plot(history.history['accuracy'], label='train accuracy')\n",
    "plt.plot(history.history['val_accuracy'], label='test accuracy')\n",
    "plt.xlabel('Epoch')\n",
    "plt.ylabel('Accuracy')\n",
    "plt.legend()\n",
    "plt.show()\n"
   ]
  },
  {
   "cell_type": "code",
   "execution_count": null,
   "id": "89355e9f-9137-458b-8598-8d06326b26c1",
   "metadata": {},
   "outputs": [],
   "source": []
  }
 ],
 "metadata": {
  "kernelspec": {
   "display_name": "Python 3 (ipykernel)",
   "language": "python",
   "name": "python3"
  },
  "language_info": {
   "codemirror_mode": {
    "name": "ipython",
    "version": 3
   },
   "file_extension": ".py",
   "mimetype": "text/x-python",
   "name": "python",
   "nbconvert_exporter": "python",
   "pygments_lexer": "ipython3",
   "version": "3.11.5"
  }
 },
 "nbformat": 4,
 "nbformat_minor": 5
}
