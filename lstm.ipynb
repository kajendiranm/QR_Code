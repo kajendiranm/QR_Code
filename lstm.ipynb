{
 "cells": [
  {
   "cell_type": "code",
   "execution_count": 1,
   "id": "7bde8353-8765-459f-82a4-4440a5dfd6f8",
   "metadata": {},
   "outputs": [
    {
     "name": "stdout",
     "output_type": "stream",
     "text": [
      "WARNING:tensorflow:From C:\\Users\\subin\\AppData\\Local\\Programs\\Python\\Python311\\Lib\\site-packages\\keras\\src\\losses.py:2976: The name tf.losses.sparse_softmax_cross_entropy is deprecated. Please use tf.compat.v1.losses.sparse_softmax_cross_entropy instead.\n",
      "\n",
      "WARNING:tensorflow:From C:\\Users\\subin\\AppData\\Local\\Programs\\Python\\Python311\\Lib\\site-packages\\keras\\src\\backend.py:1398: The name tf.executing_eagerly_outside_functions is deprecated. Please use tf.compat.v1.executing_eagerly_outside_functions instead.\n",
      "\n",
      "WARNING:tensorflow:From C:\\Users\\subin\\AppData\\Local\\Programs\\Python\\Python311\\Lib\\site-packages\\keras\\src\\optimizers\\__init__.py:309: The name tf.train.Optimizer is deprecated. Please use tf.compat.v1.train.Optimizer instead.\n",
      "\n",
      "Epoch 1/10\n",
      "WARNING:tensorflow:From C:\\Users\\subin\\AppData\\Local\\Programs\\Python\\Python311\\Lib\\site-packages\\keras\\src\\utils\\tf_utils.py:492: The name tf.ragged.RaggedTensorValue is deprecated. Please use tf.compat.v1.ragged.RaggedTensorValue instead.\n",
      "\n",
      "32/32 [==============================] - 9s 14ms/step - loss: 0.1510\n",
      "Epoch 2/10\n",
      "32/32 [==============================] - 0s 14ms/step - loss: 0.0856\n",
      "Epoch 3/10\n",
      "32/32 [==============================] - 0s 14ms/step - loss: 0.0826\n",
      "Epoch 4/10\n",
      "32/32 [==============================] - 0s 14ms/step - loss: 0.0792\n",
      "Epoch 5/10\n",
      "32/32 [==============================] - 0s 14ms/step - loss: 0.0760\n",
      "Epoch 6/10\n",
      "32/32 [==============================] - 0s 15ms/step - loss: 0.0749\n",
      "Epoch 7/10\n",
      "32/32 [==============================] - 0s 14ms/step - loss: 0.0746\n",
      "Epoch 8/10\n",
      "32/32 [==============================] - 0s 14ms/step - loss: 0.0744\n",
      "Epoch 9/10\n",
      "32/32 [==============================] - 0s 14ms/step - loss: 0.0744\n",
      "Epoch 10/10\n",
      "32/32 [==============================] - 1s 16ms/step - loss: 0.0742\n",
      "1/1 [==============================] - 2s 2s/step\n"
     ]
    }
   ],
   "source": [
    "import tensorflow as tf\n",
    "from tensorflow.keras.layers import Input, LSTM, RepeatVector\n",
    "from tensorflow.keras.models import Model\n",
    "\n",
    "timesteps = 10    \n",
    "input_dim = 1      \n",
    "latent_dim = 64   \n",
    "batch_size = 32    \n",
    "epochs = 10       \n",
    "\n",
    "inputs = Input(shape=(timesteps, input_dim))\n",
    "encoded = LSTM(latent_dim)(inputs)\n",
    "decoded = RepeatVector(timesteps)(encoded)\n",
    "decoded = LSTM(input_dim, return_sequences=True)(decoded)\n",
    "\n",
    "autoencoder = Model(inputs, decoded)\n",
    "\n",
    "autoencoder.compile(optimizer='adam', loss='mse')\n",
    "\n",
    "import numpy as np\n",
    "\n",
    "X_train = np.random.random((1000, timesteps, input_dim))\n",
    "autoencoder.fit(X_train, X_train, batch_size=batch_size, epochs=epochs)\n",
    "\n",
    "X_test = np.random.random((10, timesteps, input_dim))\n",
    "decoded_output = autoencoder.predict(X_test)"
   ]
  },
  {
   "cell_type": "code",
   "execution_count": null,
   "id": "c2ed49e1-968a-4b31-97b3-59d96bf48754",
   "metadata": {},
   "outputs": [],
   "source": []
  }
 ],
 "metadata": {
  "kernelspec": {
   "display_name": "Python 3 (ipykernel)",
   "language": "python",
   "name": "python3"
  },
  "language_info": {
   "codemirror_mode": {
    "name": "ipython",
    "version": 3
   },
   "file_extension": ".py",
   "mimetype": "text/x-python",
   "name": "python",
   "nbconvert_exporter": "python",
   "pygments_lexer": "ipython3",
   "version": "3.11.5"
  }
 },
 "nbformat": 4,
 "nbformat_minor": 5
}
